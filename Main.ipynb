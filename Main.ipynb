{
 "cells": [
  {
   "cell_type": "markdown",
   "metadata": {},
   "source": [
    "# Class module for pi"
   ]
  },
  {
   "cell_type": "code",
   "execution_count": 3,
   "metadata": {},
   "outputs": [],
   "source": [
    "import numpy as np\n",
    "import cv2\n",
    "import math\n",
    "\n",
    "def out(img):\n",
    "    cv2.imshow(\"img\",img)\n",
    "    cv2.waitKey(0)\n",
    "    cv2.destroyAllWindows()\n",
    "    \n",
    "class img_module:\n",
    "    def out(self,img):\n",
    "        cv2.imshow(\"img\",img)\n",
    "        cv2.waitKey()\n",
    "        cv2.destroyAllWindows()\n",
    "    def __init__(self):\n",
    "        self.angle_tolerance = 0.2\n",
    "        self.cap = cv2.VideoCapture(0)\n",
    "    def flush(self):\n",
    "        _,img = self.cap.read()\n",
    "    def read(self):\n",
    "        self.flush()\n",
    "        _,img = self.cap.read()\n",
    "        self.img = cv2.fastNlMeansDenoisingColored(img)\n",
    "    def get_img_target(self):\n",
    "        gray = cv2.cvtColor(self.img,cv2.COLOR_BGR2GRAY)\n",
    "        circles = cv2.HoughCircles(gray,cv2.HOUGH_GRADIENT,1,20,param1=50,param2=30,minRadius=0,maxRadius=0)\n",
    "        circles = np.uint16(np.around(circles))\n",
    "        try:\n",
    "            i = circles[0,0]\n",
    "        except:\n",
    "            return \"object_not_found\"\n",
    "        centroid = (i[0],i[1])\n",
    "        hor = i[0] #longer side\n",
    "        ver = i[1] # shorter side\n",
    "        copy = self.img.copy()\n",
    "        cv2.circle(copy,(i[0],i[1]),i[2],(0,255,0),2)\n",
    "        dist = (((320 - hor)*(320 - hor)) + ((480-ver)*(480-ver)))**0.5\n",
    "        angle = math.atan((320-hor)/(480-ver)) # -ve if object is left ||  +ve if right\n",
    "        cv2.circle(copy,(320,480),2,(0,255,0),-1)\n",
    "        out(copy)\n",
    "        return (centroid,(dist,i[2]),angle,copy)\n",
    "    \n",
    "    \n",
    "#import statements\n",
    "\n",
    "import RPi.GPIO as GPIO\n",
    "\n",
    "# set pin numbers\n",
    "L_pwm = 12\n",
    "R_pwm = 13\n",
    "frequency = 100 # in Hz  \n",
    "L_dir = 23  # direction\n",
    "R_dir = 27  #direction\n",
    "\n",
    "def setup():\n",
    "    GPIO.setmode(GPIO.BOARD)\n",
    "    GPIO.setwarnings(False)\n",
    "    GPIO.setup(L_dir,GPIO.OUT)\n",
    "    GPIO.setup(R_dir, GPIO.OUT)\n",
    "    GPIO.setup(L_pwm, GPIO.OUT)\n",
    "    GPIO.setup(R_pwm, GPIO.OUT)\n",
    "    L = GPIO.PWM(L_pwm,frequency)\n",
    "    R = GPIO.PWM(R_pwm,frequency)\n",
    "    L.start(0)\n",
    "    R.start(0)\n",
    "    return (L,R)\n",
    "    \n",
    "(L,R) = setup();\n",
    "\n",
    "def R_stop():\n",
    "    GPIO.output(R_relay_1, GPIO.LOW)\n",
    "    GPIO.output(R_relay_0, GPIO.LOW)\n",
    "\n",
    "def L_stop():\n",
    "    GPIO.output(L_relay_0, GPIO.LOW)\n",
    "    GPIO.output(L_relay_1, GPIO.LOW)\n",
    "    \n",
    "def L_forward():\n",
    "    GPIO.output(L_relay_0, GPIO.LOW)\n",
    "    GPIO.output(L_relay_1, GPIO.HIGH)\n",
    "    \n",
    "def R_forward():\n",
    "    GPIO.output(R_relay_0, GPIO.LOW)\n",
    "    GPIO.output(R_relay_1, GPIO.HIGH)\n",
    "    \n",
    "def L_reverse():\n",
    "    GPIO.output(L_relay_0, GPIO.HIGH)\n",
    "    GPIO.output(L_relay_1, GPIO.LOW)\n",
    "    \n",
    "def R_reverse():\n",
    "    GPIO.output(R_relay_0, GPIO.HIGH)\n",
    "    GPIO.output(R_relay_1, GPIO.LOW)\n",
    "    \n",
    "def L_speed(speed): # speed in percentage (0~100)\n",
    "    L.changeDutyCycle(speed)\n",
    "    \n",
    "def R_speed(speed): # speed in percentage (0~100)\n",
    "    R.changeDutyCycle(speed)\n",
    "    \n",
    "def move_left():\n",
    "    L_reverse()\n",
    "    R_forward()\n",
    "    \n",
    "def move_right():\n",
    "    R_reverse()\n",
    "    L_forward()\n",
    "    \n",
    "def move_front():\n",
    "    R_forward()\n",
    "    L_forward()\n",
    "    \n",
    "def stop():\n",
    "    L_stop()\n",
    "    R_stop()"
   ]
  },
  {
   "cell_type": "markdown",
   "metadata": {},
   "source": [
    "# Implementation stuff"
   ]
  },
  {
   "cell_type": "code",
   "execution_count": 89,
   "metadata": {},
   "outputs": [],
   "source": [
    "img_mod = img_module()\n"
   ]
  },
  {
   "cell_type": "code",
   "execution_count": 93,
   "metadata": {},
   "outputs": [],
   "source": [
    "img_mod.read()"
   ]
  },
  {
   "cell_type": "code",
   "execution_count": 94,
   "metadata": {},
   "outputs": [],
   "source": [
    "(a,b,c,d) = img_mod.get_img_target() #d is to view image, debug purposes"
   ]
  },
  {
   "cell_type": "code",
   "execution_count": 95,
   "metadata": {},
   "outputs": [
    {
     "data": {
      "text/plain": [
       "((434, 234), (271.1309646646801, 100), -0.7853981633974483)"
      ]
     },
     "execution_count": 95,
     "metadata": {},
     "output_type": "execute_result"
    }
   ],
   "source": [
    "a,b,c"
   ]
  },
  {
   "cell_type": "code",
   "execution_count": 96,
   "metadata": {},
   "outputs": [],
   "source": [
    "out(d)"
   ]
  },
  {
   "cell_type": "code",
   "execution_count": 97,
   "metadata": {},
   "outputs": [
    {
     "ename": "KeyboardInterrupt",
     "evalue": "",
     "output_type": "error",
     "traceback": [
      "\u001b[1;31m---------------------------------------------------------------------------\u001b[0m",
      "\u001b[1;31mKeyboardInterrupt\u001b[0m                         Traceback (most recent call last)",
      "\u001b[1;32m<ipython-input-97-70a193211d7e>\u001b[0m in \u001b[0;36m<module>\u001b[1;34m()\u001b[0m\n\u001b[0;32m      6\u001b[0m             \u001b[0mmove_right\u001b[0m\u001b[1;33m(\u001b[0m\u001b[1;33m)\u001b[0m\u001b[1;33m\u001b[0m\u001b[0m\n\u001b[0;32m      7\u001b[0m         \u001b[1;32melse\u001b[0m\u001b[1;33m:\u001b[0m\u001b[1;33m\u001b[0m\u001b[0m\n\u001b[1;32m----> 8\u001b[1;33m             \u001b[0mmove_left\u001b[0m\u001b[1;33m(\u001b[0m\u001b[1;33m)\u001b[0m\u001b[1;33m\u001b[0m\u001b[0m\n\u001b[0m\u001b[0;32m      9\u001b[0m \u001b[1;33m\u001b[0m\u001b[0m\n\u001b[0;32m     10\u001b[0m \u001b[1;33m\u001b[0m\u001b[0m\n",
      "\u001b[1;31mKeyboardInterrupt\u001b[0m: "
     ]
    }
   ],
   "source": [
    "while True:\n",
    "    img_mod.read()\n",
    "    (centroid,dist,angle,img) = img_mod.get_img_target()\n",
    "    if abs(angle) >= img_mod.angle_tolerance: # required angle not met \n",
    "        if(angle > 0):\n",
    "            print(\"right\")\n",
    "#             move_right()\n",
    "#             stop()\n",
    "        else:\n",
    "            print(\"left\")\n",
    "#             move_left()\n",
    "#             stop()\n",
    "    else:\n",
    "        if dist[1] > dist_threshold:\n",
    "            print(\"front\")\n",
    "#             move_front()\n",
    "        else:\n",
    "            print(\"stop\")\n",
    "#             stop()\n",
    "    "
   ]
  },
  {
   "cell_type": "code",
   "execution_count": 88,
   "metadata": {},
   "outputs": [],
   "source": [
    "img_mod.cap.release()"
   ]
  },
  {
   "cell_type": "code",
   "execution_count": null,
   "metadata": {},
   "outputs": [],
   "source": []
  }
 ],
 "metadata": {
  "kernelspec": {
   "display_name": "Python 2",
   "language": "python",
   "name": "python2"
  },
  "language_info": {
   "codemirror_mode": {
    "name": "ipython",
    "version": 2
   },
   "file_extension": ".py",
   "mimetype": "text/x-python",
   "name": "python",
   "nbconvert_exporter": "python",
   "pygments_lexer": "ipython2",
   "version": "2.7.14"
  }
 },
 "nbformat": 4,
 "nbformat_minor": 2
}
